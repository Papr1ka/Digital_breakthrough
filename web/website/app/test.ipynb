{
 "cells": [
  {
   "cell_type": "code",
   "execution_count": 12,
   "metadata": {},
   "outputs": [
    {
     "name": "stdout",
     "output_type": "stream",
     "text": [
      "       object_id                                               name  \\\n",
      "982     10619960                                                Нож   \n",
      "17765   19940703                           Буклет \"г.Орехово-Зуево\"   \n",
      "16472   11819582                                           Малахит.   \n",
      "14491   46784200            Сборка и регулировка станков-автоматов.   \n",
      "19118   10491778                   Кассовый аппарат (Тип КИ 50443).   \n",
      "1163    11016246                                           Салфетка   \n",
      "17262   24379420                               фрески фрагмент, фон   \n",
      "13074   43800656  Казанцев Платон Иннокентьевич. Письмо к И.Ф. Г...   \n",
      "15183   10667848  Книга. Précaution, ou le choix d'un mari. Tome...   \n",
      "6297    10331526  Портрет Бирюкова. Коллекция живописи Л.Р.Солог...   \n",
      "\n",
      "                                             description           group  \\\n",
      "982                                                  NaN      Археология   \n",
      "17765                                                NaN          Прочие   \n",
      "16472  Плотный агрегат натечной формы. Цвет ярко-зеле...     Минералогия   \n",
      "14491                                                NaN  Фото, негативы   \n",
      "19118  В металлическом корпусе серо-коричневого цвета...         Техника   \n",
      "1163   Разноцветная (желтый, оранжевый, розовый). Кру...          Прочие   \n",
      "17262                                                NaN        Живопись   \n",
      "13074                                                NaN       Документы   \n",
      "15183  В составном пестром картонном переплете с кожа...    Редкие книги   \n",
      "6297   Изображен мужчина средних лет с усами и торчащ...        Живопись   \n",
      "\n",
      "           img_name  \n",
      "982    27840598.jpg  \n",
      "17765  20647098.jpg  \n",
      "16472   9405129.jpg  \n",
      "14491  57817779.jpg  \n",
      "19118   7622712.jpg  \n",
      "1163    8339499.jpg  \n",
      "17262  53006114.jpg  \n",
      "13074  53893630.jpg  \n",
      "15183  31838640.jpg  \n",
      "6297    7396367.jpg   <class 'pandas.core.frame.DataFrame'>\n"
     ]
    },
    {
     "data": {
      "text/plain": [
       "[MuseumObject(image='/home/joe/Документы/train_dataset_mincult-train/train/10619960/27840598.jpg', group='Археология', description=''),\n",
       " MuseumObject(image='/home/joe/Документы/train_dataset_mincult-train/train/19940703/20647098.jpg', group='Прочие', description=''),\n",
       " MuseumObject(image='/home/joe/Документы/train_dataset_mincult-train/train/11819582/9405129.jpg', group='Минералогия', description='Плотный агрегат натечной формы. Цвет ярко-зеленый. Блеск шелковистый. Черта бледно-зеленая. Излом неровный. Спайность совершенная. Твердость низкая. Хрупок.'),\n",
       " MuseumObject(image='/home/joe/Документы/train_dataset_mincult-train/train/46784200/57817779.jpg', group='Фото, негативы', description=''),\n",
       " MuseumObject(image='/home/joe/Документы/train_dataset_mincult-train/train/10491778/7622712.jpg', group='Техника', description='В металлическом корпусе серо-коричневого цвета, окрашенного \"под дерево\", укреплен на деревянном основании того же цвета. Внутри основания выдвижной ящик с перегородками, для денег (открывается при помощи манипуляций с кнопками и рукояткой). На передней панели в верхней части окошко 9дисплей0, ниже ряды пластмассовых круглых кнопок с цифрами белого и красного цвета. Слева - устройство для чековой ленты. В правом торце ручка, приводящая аппарат в действие. В нижней части корпуса над основанием металлическая пластина-шильдик с надписями.'),\n",
       " MuseumObject(image='/home/joe/Документы/train_dataset_mincult-train/train/11016246/8339499.jpg', group='Прочие', description='Разноцветная (желтый, оранжевый, розовый). Круглая.'),\n",
       " MuseumObject(image='/home/joe/Документы/train_dataset_mincult-train/train/24379420/53006114.jpg', group='Живопись', description=''),\n",
       " MuseumObject(image='/home/joe/Документы/train_dataset_mincult-train/train/43800656/53893630.jpg', group='Документы', description=''),\n",
       " MuseumObject(image='/home/joe/Документы/train_dataset_mincult-train/train/10667848/31838640.jpg', group='Редкие книги', description='В составном пестром картонном переплете с кожаными уголками и корешком, с золоченым тиснением по корешку, обрез с набрызгом на титуле - чернильный штамп: \"Павловский Дворец-Музей. Библиотека Росси. 1938 г.\".'),\n",
       " MuseumObject(image='/home/joe/Документы/train_dataset_mincult-train/train/10331526/7396367.jpg', group='Живопись', description='Изображен мужчина средних лет с усами и торчащими волосами. Одет в зеленую гимнастерку с желтыми пуговицами. Вверху - 65. Внизу справа на наклеенной на основу белой бумаге написано - Бирюков. Внизу слева - архив 817/74.')]"
      ]
     },
     "execution_count": 12,
     "metadata": {},
     "output_type": "execute_result"
    }
   ],
   "source": [
    "import pandas as pd\n",
    "import numpy as np\n",
    "import random\n",
    "from os import path, listdir\n",
    "from typing import List\n",
    "\n",
    "from dataclasses import dataclass\n",
    "\n",
    "\n",
    "# Create your models here.\n",
    "@dataclass\n",
    "class MuseumObject:\n",
    "    image: str # path\n",
    "    group: str\n",
    "    description: str\n",
    "\n",
    "\n",
    "\n",
    "PATH_TO_DATASET = path.abspath(\"/home/joe/Документы/train_dataset_mincult-train\")\n",
    "PATH_TO_CSV = path.join(PATH_TO_DATASET, \"train.csv\")\n",
    "PATH_TO_IMAGES = path.join(PATH_TO_DATASET, \"train\")\n",
    "\n",
    "df = pd.read_csv(PATH_TO_CSV, sep = ';', encoding = 'utf-8')\n",
    "\n",
    "def get_image_path(object_id, img_name):\n",
    "    return path.join(PATH_TO_IMAGES, str(object_id), img_name)\n",
    "\n",
    "def predict() -> List[MuseumObject]:\n",
    "    indexes = [random.randint(0, len(df)) for i in range(10)]\n",
    "    answer = df.iloc[indexes]\n",
    "    print(answer, type(answer))\n",
    "    \n",
    "    answer = [MuseumObject(get_image_path(i[0], i[4]), i[3], str(i[2]) if str(i[2]) != \"nan\" else \"\") for i in answer.values]\n",
    "    for i in answer:\n",
    "        assert isinstance(i.image, str), (type(i.image), \"image\")\n",
    "        assert isinstance(i.group, str), (type(i.group), \"group\")\n",
    "        assert isinstance(i.description, str), (type(i.description), \"description\")\n",
    "    return answer\n",
    "\n",
    "predict()\n"
   ]
  }
 ],
 "metadata": {
  "kernelspec": {
   "display_name": "venv",
   "language": "python",
   "name": "python3"
  },
  "language_info": {
   "codemirror_mode": {
    "name": "ipython",
    "version": 3
   },
   "file_extension": ".py",
   "mimetype": "text/x-python",
   "name": "python",
   "nbconvert_exporter": "python",
   "pygments_lexer": "ipython3",
   "version": "3.11.8"
  }
 },
 "nbformat": 4,
 "nbformat_minor": 2
}
