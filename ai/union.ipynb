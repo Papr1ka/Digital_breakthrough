{
 "cells": [
  {
   "cell_type": "code",
   "execution_count": 37,
   "metadata": {},
   "outputs": [],
   "source": [
    "import PIL\n",
    "from PIL import Image\n",
    "import torch\n",
    "from typing import Union, List\n",
    "import numpy as np\n",
    "from text_gen import model, feature_extractor, tokenizer\n",
    "import faiss\n",
    "from image_retrieval import get_embed, pca_matrix\n",
    "\n",
    "\n",
    "device = torch.device(\"cuda\" if torch.cuda.is_available() else \"cpu\")\n",
    " \n",
    "def init():\n",
    "    classifier = torch.load('weights\\\\classifier_final2.pth', map_location=lambda storage, loc: storage)\n",
    "    classifier.eval()\n",
    "    generator = model\n",
    "    generator = torch.load_state_dict('weights\\\\pytorch_model.bin', map_location=lambda storage, loc: storage)\n",
    "    generator.eval()\n",
    "    dim = image_vectors[0].shape[0]\n",
    "    num_components = 64\n",
    "    pca_matrix = faiss.PCAMatrix(dim, num_components)\n",
    "\n",
    "    image_vectors = np.array(image_vectors)\n",
    "    # обучаем PCAMatrix на исходных векторах\n",
    "    pca_matrix.train(image_vectors)\n",
    "\n",
    "    # применяем PCAMatrix для понижения размерности векторов\n",
    "    output_vectors = pca_matrix.apply_py(image_vectors)\n",
    "\n",
    "    index = faiss.IndexFlatL2(output_vectors[0].shape[0])\n",
    "\n",
    "    index.add(output_vectors)\n",
    "    index = faiss.read_index(\"weights\\\\working.index\")\n",
    "\n",
    "\n",
    "def find_simmilar_pca(embed_image):\n",
    "    PCA = faiss.read_VectorTransform(\"weights\\\\PCA.pca\")\n",
    "    query_image_vector = pca_matrix.apply_py(np.array([embed_image]))\n",
    "\n",
    "    k = 10\n",
    "    distances, indices = index.search(query_image_vector, k)\n",
    "    res = [df.iloc[i] for i in indices][0]\n",
    "    return res\n",
    "\n"
   ]
  },
  {
   "cell_type": "code",
   "execution_count": 38,
   "metadata": {},
   "outputs": [],
   "source": [
    "def predict(image: PIL.Image.Image, images: bool, group: bool, description: bool) -> dict:\n",
    "    \"\"\"\n",
    "    images: похожие картинки\n",
    "    group: класс экспоната\n",
    "    description: описание экспоната\n",
    "    \n",
    "\n",
    "    returns\n",
    "    {\n",
    "        images: Union[pd.DataFrame, List[pd.Series]]\n",
    "        \n",
    "        group: str\n",
    "        \n",
    "        description: str\n",
    "    }\n",
    "    \"\"\"\n",
    "    response = {}\n",
    "    vectors = get_embed(image)\n",
    "\n",
    "    if images:\n",
    "        response.update(images=find_simmilar_pca(vectors))\n",
    "    if group:\n",
    "        response.update(group=classifier(vectors))\n",
    "    if description:\n",
    "        response.update(description=generator(vectors))\n",
    "    \n",
    "    return response\n",
    "\n",
    "def predict_caption(image_paths):\n",
    "  images = []\n",
    "  for image_path in image_paths:\n",
    "    i_image = Image.open(image_path)\n",
    "    if i_image.mode != \"RGB\":\n",
    "      i_image = i_image.convert(mode=\"RGB\")\n",
    "\n",
    "    images.append(i_image)\n",
    "\n",
    "  pixel_values = feature_extractor(images=images, return_tensors=\"pt\").pixel_values\n",
    "  pixel_values = pixel_values.to(device)\n",
    "\n",
    "  output_ids = model.generate(pixel_values)\n",
    "\n",
    "  preds = tokenizer.batch_decode(output_ids, skip_special_tokens=True)\n",
    "  preds = [pred.strip() for pred in preds]\n",
    "  return preds\n",
    "\n",
    "\n"
   ]
  },
  {
   "cell_type": "code",
   "execution_count": 39,
   "metadata": {},
   "outputs": [
    {
     "ename": "AssertionError",
     "evalue": "",
     "output_type": "error",
     "traceback": [
      "\u001b[1;31m---------------------------------------------------------------------------\u001b[0m",
      "\u001b[1;31mAssertionError\u001b[0m                            Traceback (most recent call last)",
      "Cell \u001b[1;32mIn[39], line 2\u001b[0m\n\u001b[0;32m      1\u001b[0m relative_path \u001b[38;5;241m=\u001b[39m \u001b[38;5;124mR\u001b[39m\u001b[38;5;124m\"\u001b[39m\u001b[38;5;124mdataset\u001b[39m\u001b[38;5;124m\\\u001b[39m\u001b[38;5;124mtrain\u001b[39m\u001b[38;5;124m\\\u001b[39m\u001b[38;5;124m83137\u001b[39m\u001b[38;5;124m\\\u001b[39m\u001b[38;5;124m20110231.jpg\u001b[39m\u001b[38;5;124m\"\u001b[39m\n\u001b[1;32m----> 2\u001b[0m \u001b[43mpredict\u001b[49m\u001b[43m(\u001b[49m\u001b[43mImage\u001b[49m\u001b[38;5;241;43m.\u001b[39;49m\u001b[43mopen\u001b[49m\u001b[43m(\u001b[49m\u001b[38;5;124;43m'\u001b[39;49m\u001b[38;5;124;43mdataset/train/10008800/6885950.jpg\u001b[39;49m\u001b[38;5;124;43m'\u001b[39;49m\u001b[43m)\u001b[49m\u001b[43m,\u001b[49m\u001b[43m \u001b[49m\u001b[38;5;28;43;01mTrue\u001b[39;49;00m\u001b[43m,\u001b[49m\u001b[43m \u001b[49m\u001b[38;5;28;43;01mTrue\u001b[39;49;00m\u001b[43m,\u001b[49m\u001b[43m \u001b[49m\u001b[38;5;28;43;01mTrue\u001b[39;49;00m\u001b[43m)\u001b[49m \u001b[38;5;66;03m# ['Самолет на взлетно-посадочной полосе аэропорта.']\u001b[39;00m\n",
      "Cell \u001b[1;32mIn[38], line 21\u001b[0m, in \u001b[0;36mpredict\u001b[1;34m(image, images, group, description)\u001b[0m\n\u001b[0;32m     18\u001b[0m vectors \u001b[38;5;241m=\u001b[39m get_embed(image)\n\u001b[0;32m     20\u001b[0m \u001b[38;5;28;01mif\u001b[39;00m images:\n\u001b[1;32m---> 21\u001b[0m     response\u001b[38;5;241m.\u001b[39mupdate(images\u001b[38;5;241m=\u001b[39m\u001b[43mfind_simmilar_pca\u001b[49m\u001b[43m(\u001b[49m\u001b[43mvectors\u001b[49m\u001b[43m)\u001b[49m)\n\u001b[0;32m     22\u001b[0m \u001b[38;5;28;01mif\u001b[39;00m group:\n\u001b[0;32m     23\u001b[0m     response\u001b[38;5;241m.\u001b[39mupdate(group\u001b[38;5;241m=\u001b[39mclassifier(vectors))\n",
      "Cell \u001b[1;32mIn[37], line 25\u001b[0m, in \u001b[0;36mfind_simmilar_pca\u001b[1;34m(embed_image)\u001b[0m\n\u001b[0;32m     23\u001b[0m \u001b[38;5;28;01mdef\u001b[39;00m \u001b[38;5;21mfind_simmilar_pca\u001b[39m(embed_image):\n\u001b[0;32m     24\u001b[0m     PCA \u001b[38;5;241m=\u001b[39m faiss\u001b[38;5;241m.\u001b[39mread_VectorTransform(\u001b[38;5;124m\"\u001b[39m\u001b[38;5;124mweights\u001b[39m\u001b[38;5;130;01m\\\\\u001b[39;00m\u001b[38;5;124mPCA.pca\u001b[39m\u001b[38;5;124m\"\u001b[39m)\n\u001b[1;32m---> 25\u001b[0m     query_image_vector \u001b[38;5;241m=\u001b[39m \u001b[43mpca_matrix\u001b[49m\u001b[38;5;241;43m.\u001b[39;49m\u001b[43mapply_py\u001b[49m\u001b[43m(\u001b[49m\u001b[43mnp\u001b[49m\u001b[38;5;241;43m.\u001b[39;49m\u001b[43marray\u001b[49m\u001b[43m(\u001b[49m\u001b[43m[\u001b[49m\u001b[43membed_image\u001b[49m\u001b[43m]\u001b[49m\u001b[43m)\u001b[49m\u001b[43m)\u001b[49m\n\u001b[0;32m     27\u001b[0m     k \u001b[38;5;241m=\u001b[39m \u001b[38;5;241m10\u001b[39m\n\u001b[0;32m     28\u001b[0m     distances, indices \u001b[38;5;241m=\u001b[39m index\u001b[38;5;241m.\u001b[39msearch(query_image_vector, k)\n",
      "File \u001b[1;32mc:\\Users\\fktrc\\anaconda3\\lib\\site-packages\\faiss\\class_wrappers.py:978\u001b[0m, in \u001b[0;36mhandle_VectorTransform.<locals>.apply_method\u001b[1;34m(self, x)\u001b[0m\n\u001b[0;32m    976\u001b[0m n, d \u001b[38;5;241m=\u001b[39m x\u001b[38;5;241m.\u001b[39mshape\n\u001b[0;32m    977\u001b[0m x \u001b[38;5;241m=\u001b[39m np\u001b[38;5;241m.\u001b[39mascontiguousarray(x, dtype\u001b[38;5;241m=\u001b[39m\u001b[38;5;124m'\u001b[39m\u001b[38;5;124mfloat32\u001b[39m\u001b[38;5;124m'\u001b[39m)\n\u001b[1;32m--> 978\u001b[0m \u001b[38;5;28;01massert\u001b[39;00m d \u001b[38;5;241m==\u001b[39m \u001b[38;5;28mself\u001b[39m\u001b[38;5;241m.\u001b[39md_in\n\u001b[0;32m    979\u001b[0m y \u001b[38;5;241m=\u001b[39m np\u001b[38;5;241m.\u001b[39mempty((n, \u001b[38;5;28mself\u001b[39m\u001b[38;5;241m.\u001b[39md_out), dtype\u001b[38;5;241m=\u001b[39mnp\u001b[38;5;241m.\u001b[39mfloat32)\n\u001b[0;32m    980\u001b[0m \u001b[38;5;28mself\u001b[39m\u001b[38;5;241m.\u001b[39mapply_noalloc(n, swig_ptr(x), swig_ptr(y))\n",
      "\u001b[1;31mAssertionError\u001b[0m: "
     ]
    }
   ],
   "source": [
    "relative_path = R\"dataset\\train\\83137\\20110231.jpg\"\n",
    "predict(Image.open('dataset/train/10008800/6885950.jpg'), True, True, True) # ['Самолет на взлетно-посадочной полосе аэропорта.']"
   ]
  }
 ],
 "metadata": {
  "kernelspec": {
   "display_name": "Python 3",
   "language": "python",
   "name": "python3"
  },
  "language_info": {
   "codemirror_mode": {
    "name": "ipython",
    "version": 3
   },
   "file_extension": ".py",
   "mimetype": "text/x-python",
   "name": "python",
   "nbconvert_exporter": "python",
   "pygments_lexer": "ipython3",
   "version": "3.10.9"
  }
 },
 "nbformat": 4,
 "nbformat_minor": 2
}
